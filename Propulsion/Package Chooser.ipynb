{
 "cells": [
  {
   "cell_type": "code",
   "execution_count": 4,
   "id": "0be11d84",
   "metadata": {},
   "outputs": [],
   "source": [
    "import os\n",
    "import numpy as np\n",
    "import pandas as pd\n",
    "import xlsxwriter\n",
    "import re\n",
    "from PropulsionCalc import pullRPMdf, RPMfinder"
   ]
  },
  {
   "cell_type": "code",
   "execution_count": 5,
   "id": "e145c93a",
   "metadata": {},
   "outputs": [],
   "source": [
    "\"\"\" Sets up for Big Loop \"\"\"\n",
    "\n",
    "path = \"C:/Users/marym/OneDrive/Documents/PropellerCalc/\"\n",
    "batdir = path + \"batteries\"\n",
    "propdir = path + \"propellors\"\n",
    "motordir = path + \"motors\"\n",
    "\n",
    "ExcelFileName = \"PropulsionPackage.xlsx\"\n",
    "writer = pd.ExcelWriter(ExcelFileName, engine = 'xlsxwriter')\n",
    "\n",
    "\n",
    "# INPUTS #\n",
    "maxVel = 90                      # ft/s\n",
    "Sref = 6                         # ft^2\n",
    "Cd = .5\n",
    "alt = 1289                       # ft\n",
    "rho = 1.225 * .84\n",
    "drag = 15 * 0.22480894           # N to LBS\n",
    "# INPUTS #\n",
    "\n",
    "drag = Cd * rho * (maxVel)^2 * .5 * Sref\n",
    "\n",
    "maxVel *= 0.68181818             # ft/s to mph\n",
    "\n",
    "# If given alt, use below\n",
    "#alt *= 0.3048                    # ft to m\n",
    "#T = 15 + 273.15 - 6.5 * alt / 1000   # Ambient Temp\n",
    "#Pressure = P0 * np.exp(-M * g *  alt/ (R * T))    # Pressure at Alt (Pa)\n",
    "#rho = Pressure * M / (R * T)     # Air Density\n",
    "\n",
    "Throttle = 80.0                 # Throttle value (0 to 100)"
   ]
  },
  {
   "cell_type": "code",
   "execution_count": 6,
   "id": "02b53987",
   "metadata": {},
   "outputs": [
    {
     "ename": "FileNotFoundError",
     "evalue": "[WinError 3] The system cannot find the path specified: 'C:/Users/marym/OneDrive/Documents/PropellerCalc/batteries'",
     "output_type": "error",
     "traceback": [
      "\u001b[1;31m---------------------------------------------------------------------------\u001b[0m",
      "\u001b[1;31mFileNotFoundError\u001b[0m                         Traceback (most recent call last)",
      "\u001b[1;32m~\\AppData\\Local\\Temp/ipykernel_25080/139967633.py\u001b[0m in \u001b[0;36m<module>\u001b[1;34m\u001b[0m\n\u001b[1;32m----> 1\u001b[1;33m \u001b[1;32mfor\u001b[0m \u001b[0mbattery\u001b[0m \u001b[1;32min\u001b[0m \u001b[0mos\u001b[0m\u001b[1;33m.\u001b[0m\u001b[0mlistdir\u001b[0m\u001b[1;33m(\u001b[0m\u001b[0mbatdir\u001b[0m\u001b[1;33m)\u001b[0m\u001b[1;33m:\u001b[0m\u001b[1;33m\u001b[0m\u001b[1;33m\u001b[0m\u001b[0m\n\u001b[0m\u001b[0;32m      2\u001b[0m     \u001b[0mbat\u001b[0m \u001b[1;33m=\u001b[0m \u001b[0mos\u001b[0m\u001b[1;33m.\u001b[0m\u001b[0mpath\u001b[0m\u001b[1;33m.\u001b[0m\u001b[0mjoin\u001b[0m\u001b[1;33m(\u001b[0m\u001b[0mdirectory\u001b[0m\u001b[1;33m,\u001b[0m \u001b[0mbattery\u001b[0m\u001b[1;33m)\u001b[0m\u001b[1;33m\u001b[0m\u001b[1;33m\u001b[0m\u001b[0m\n\u001b[0;32m      3\u001b[0m \u001b[1;33m\u001b[0m\u001b[0m\n\u001b[0;32m      4\u001b[0m     \u001b[1;32mfor\u001b[0m \u001b[0mmotor\u001b[0m \u001b[1;32min\u001b[0m \u001b[0mos\u001b[0m\u001b[1;33m.\u001b[0m\u001b[0mlistdir\u001b[0m\u001b[1;33m(\u001b[0m\u001b[0mmotordir\u001b[0m\u001b[1;33m)\u001b[0m\u001b[1;33m:\u001b[0m\u001b[1;33m\u001b[0m\u001b[1;33m\u001b[0m\u001b[0m\n\u001b[0;32m      5\u001b[0m         \u001b[0mmotor\u001b[0m \u001b[1;33m=\u001b[0m \u001b[0mos\u001b[0m\u001b[1;33m.\u001b[0m\u001b[0mpath\u001b[0m\u001b[1;33m.\u001b[0m\u001b[0mjoin\u001b[0m\u001b[1;33m(\u001b[0m\u001b[0mdirectory\u001b[0m\u001b[1;33m,\u001b[0m \u001b[0mmotor\u001b[0m\u001b[1;33m)\u001b[0m\u001b[1;33m\u001b[0m\u001b[1;33m\u001b[0m\u001b[0m\n",
      "\u001b[1;31mFileNotFoundError\u001b[0m: [WinError 3] The system cannot find the path specified: 'C:/Users/marym/OneDrive/Documents/PropellerCalc/batteries'"
     ]
    }
   ],
   "source": [
    "for battery in os.listdir(batdir):\n",
    "    bat = os.path.join(directory, battery)\n",
    "    \n",
    "    for motor in os.listdir(motordir):\n",
    "        motor = os.path.join(directory, motor)\n",
    "        \n",
    "        # Defining Sheet Name Based on Battery and Motor\n",
    "        sheet_name = bat + \"_\" + motor    \n",
    "        \n",
    "        for prop in os.listdir(propdir):\n",
    "            prop = os.path.join(directory, prop)\n",
    "            \n",
    "            # Pulling RPM Dataframe for finalCalc\n",
    "            RPMdf, propDia, propPitch = pullRPMdf(prop)\n",
    "            \n",
    "            if (propPitch[-1] != 'E'):\n",
    "                continue\n",
    "            \n",
    "            reader = pd.read_excel(ExcelFileName, sheet_name = sheet_name)\n",
    "            \n",
    "            ws = writer.sheets[sheet_name]\n",
    "            ws.write(len(reader) + 2, 0, prop)\n",
    "            \n",
    "            # Pulling Dataframe for Velocities\n",
    "            resultProp = finalCalc(propDia, RPMdf, maxVel, rho, cells, batVolt, batRes, kv, nLCurr, nLVolt, mRes, mWatt, Throttle)\n",
    "            \n",
    "            # Exporting Data to Excelsheet\n",
    "            resultProp.to_excel(ExcelFileName, sheet_name = sheet_name, index = False, header = False, startrow = len(reader) + 3)"
   ]
  },
  {
   "cell_type": "code",
   "execution_count": null,
   "id": "7d781f1e",
   "metadata": {},
   "outputs": [],
   "source": []
  },
  {
   "cell_type": "code",
   "execution_count": null,
   "id": "e39dd9e7",
   "metadata": {},
   "outputs": [],
   "source": []
  }
 ],
 "metadata": {
  "kernelspec": {
   "display_name": "Python 3 (ipykernel)",
   "language": "python",
   "name": "python3"
  },
  "language_info": {
   "codemirror_mode": {
    "name": "ipython",
    "version": 3
   },
   "file_extension": ".py",
   "mimetype": "text/x-python",
   "name": "python",
   "nbconvert_exporter": "python",
   "pygments_lexer": "ipython3",
   "version": "3.9.7"
  }
 },
 "nbformat": 4,
 "nbformat_minor": 5
}
